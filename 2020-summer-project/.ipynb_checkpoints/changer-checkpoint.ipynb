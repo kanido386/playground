{
 "cells": [
  {
   "cell_type": "code",
   "execution_count": 1,
   "metadata": {},
   "outputs": [],
   "source": [
    "import numpy as np\n",
    "import matplotlib.pyplot as plt\n",
    "from scipy.io.wavfile import read, write\n",
    "from scipy.fftpack import fft, ifft\n",
    "from my_toolbox import cut_frames, change_timbre"
   ]
  },
  {
   "cell_type": "code",
   "execution_count": 2,
   "metadata": {},
   "outputs": [
    {
     "name": "stderr",
     "output_type": "stream",
     "text": [
      "/usr/local/lib/python3.7/site-packages/ipykernel_launcher.py:1: WavFileWarning: Chunk (non-data) not understood, skipping it.\n",
      "  \"\"\"Entry point for launching an IPython kernel.\n"
     ]
    }
   ],
   "source": [
    "fs, data = read('music1.wav')\n",
    "# fs, data = read('music2.wav')\n",
    "data = data[:,0]   # left channel"
   ]
  },
  {
   "cell_type": "code",
   "execution_count": 3,
   "metadata": {},
   "outputs": [],
   "source": [
    "\"\"\"\n",
    "cut frames ＆ windowing\n",
    "https://blog.csdn.net/u010592995/article/details/81001751\n",
    "https://docs.scipy.org/doc/scipy/reference/generated/scipy.signal.check_COLA.html\n",
    "\"\"\"\n",
    "frame_size = 2**12\n",
    "window = 'hann'\n",
    "hop_size = int(frame_size * 1/3)\n",
    "frames, num_frames = cut_frames(data, frame_size, hop_size, window)"
   ]
  },
  {
   "cell_type": "code",
   "execution_count": 4,
   "metadata": {},
   "outputs": [],
   "source": [
    "\"\"\"\n",
    "FFT to spectrum\n",
    "\"\"\"\n",
    "spectrum = []\n",
    "for i in range(num_frames):\n",
    "    X = fft(frames[i])\n",
    "    spectrum.append(X)\n",
    "spectrum = np.array(spectrum)"
   ]
  },
  {
   "cell_type": "code",
   "execution_count": 5,
   "metadata": {},
   "outputs": [
    {
     "name": "stderr",
     "output_type": "stream",
     "text": [
      "/Users/linyanting/Desktop/playground/2020-summer-project/my_toolbox.py:74: ComplexWarning: Casting complex values to real discards the imaginary part\n",
      "  new_X[lowest] = Y[lowest]\n"
     ]
    }
   ],
   "source": [
    "\"\"\"\n",
    "processing\n",
    "\"\"\"\n",
    "option = 2   # 1. trumpet   2. oboe   3. marimba   4. organ   5. glockenspiel   6. pure   7. json\n",
    "new_spectrum = change_timbre(spectrum, num_frames, frame_size, option)"
   ]
  },
  {
   "cell_type": "code",
   "execution_count": 6,
   "metadata": {},
   "outputs": [],
   "source": [
    "\"\"\"\n",
    "back to time domain\n",
    "\"\"\"\n",
    "new_frames = []\n",
    "for i in range(num_frames):\n",
    "    x = ifft(new_spectrum[i])\n",
    "    new_frames.append(x)\n",
    "new_frames = np.array(new_frames)"
   ]
  },
  {
   "cell_type": "code",
   "execution_count": 7,
   "metadata": {},
   "outputs": [
    {
     "name": "stderr",
     "output_type": "stream",
     "text": [
      "/usr/local/lib/python3.7/site-packages/ipykernel_launcher.py:8: ComplexWarning: Casting complex values to real discards the imaginary part\n",
      "  \n"
     ]
    }
   ],
   "source": [
    "\"\"\"\n",
    "overlap the frames\n",
    "\"\"\"\n",
    "new_data = np.zeros(data.size)\n",
    "i = 0\n",
    "for j in range(num_frames):\n",
    "    for k in range(frame_size):\n",
    "        new_data[i] = new_data[i] + new_frames[j,k]\n",
    "        i = i + 1\n",
    "    i = i - (frame_size - hop_size)"
   ]
  },
  {
   "cell_type": "code",
   "execution_count": 8,
   "metadata": {},
   "outputs": [
    {
     "data": {
      "text/plain": [
       "[<matplotlib.lines.Line2D at 0x10f995590>]"
      ]
     },
     "execution_count": 8,
     "metadata": {},
     "output_type": "execute_result"
    },
    {
     "data": {
      "image/png": "[encoded data removed]",
      "text/plain": [
       "<Figure size 432x288 with 1 Axes>"
      ]
     },
     "metadata": {
      "needs_background": "light"
     },
     "output_type": "display_data"
    }
   ],
   "source": [
    "new_data = new_data / max(abs(new_data)) * 0.5   # limit the volume\n",
    "write('output.wav', fs, new_data)\n",
    "plt.plot(new_data[:frame_size*30])"
   ]
  }
 ],
 "metadata": {
  "kernelspec": {
   "display_name": "Python 3",
   "language": "python",
   "name": "python3"
  },
  "language_info": {
   "codemirror_mode": {
    "name": "ipython",
    "version": 3
   },
   "file_extension": ".py",
   "mimetype": "text/x-python",
   "name": "python",
   "nbconvert_exporter": "python",
   "pygments_lexer": "ipython3",
   "version": "3.7.4"
  }
 },
 "nbformat": 4,
 "nbformat_minor": 4
}
